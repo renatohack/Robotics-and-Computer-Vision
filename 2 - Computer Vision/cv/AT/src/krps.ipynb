{
 "cells": [
  {
   "attachments": {},
   "cell_type": "markdown",
   "metadata": {},
   "source": [
    "### LITTLE EYES V2\n",
    "#### Meu Segundo Modelo de Visão Computacional"
   ]
  },
  {
   "cell_type": "code",
   "execution_count": 23,
   "metadata": {},
   "outputs": [],
   "source": [
    "the_seed = 32\n",
    "digit_size = (300, 300, 1)\n",
    "convnn_acivation = 'relu'\n",
    "fully_connected_acivation = 'tanh'\n",
    "hyperparameter_max = 10\n",
    "learning_rate = 0.001\n",
    "max_epochs = 5\n",
    "score_metric = 'accuracy'\n",
    "verbose = 1\n",
    "phi = 360\n",
    "\n",
    "dir_images = \"C:\\\\AT\\\\images\"\n",
    "path_model = \"D:\\\\AT\\\\model\\\\handrecognition_model.h5\"\n",
    "image_size = (300,300)\n",
    "input_shape = image_size + (1,)\n",
    "validation_split = 0.20\n",
    "the_seed = 1"
   ]
  },
  {
   "cell_type": "code",
   "execution_count": 24,
   "metadata": {},
   "outputs": [],
   "source": [
    "import tensorflow as tf\n",
    "from tensorflow.keras import datasets, layers, models, optimizers, Input, Model\n",
    "from matplotlib import pyplot\n",
    "import numpy\n",
    "import pandas\n",
    "import random"
   ]
  },
  {
   "cell_type": "code",
   "execution_count": 25,
   "metadata": {},
   "outputs": [],
   "source": [
    "random.seed(the_seed)\n",
    "numpy.random.seed(the_seed)\n",
    "seed = numpy.random.randint(the_seed)\n",
    "tf.random.set_seed(the_seed)"
   ]
  },
  {
   "cell_type": "code",
   "execution_count": 26,
   "metadata": {},
   "outputs": [],
   "source": [
    "def create_rps(input_size : tuple[int, int, int] = (300, 300, 1),\n",
    "                      convnn_acivation : str = 'relu',\n",
    "                      fully_connected_acivation : str = 'tanh',\n",
    "                      net_name : str = 'LittleEyes',\n",
    "                      hyperparameter : int = 1,\n",
    "                      phi = phi):\n",
    "    \n",
    "    filter_size = (2,2)\n",
    "    pooling_size = (2,2)\n",
    "    \n",
    "    # CAMADA OCULTA\n",
    "    inputs = tf.keras.Input(shape=input_size)\n",
    "    \n",
    "    # RESCALING\n",
    "    scale_layer = tf.keras.layers.Rescaling(scale=1 / 127.5, offset=-1)\n",
    "    x = scale_layer(inputs)\n",
    "    \n",
    "    # CAMADA DE AUMENTO DE DADOS\n",
    "    rotator = tf.keras.layers.RandomRotation(phi)\n",
    "    x = rotator(x)\n",
    "\n",
    "    # PRIMEIRA CAMADA CONVOLUCIONAL\n",
    "    conv_2d_layer_1 = tf.keras.layers.Conv2D(2 * hyperparameter, filter_size, activation = convnn_acivation)\n",
    "    x = conv_2d_layer_1(inputs)\n",
    "\n",
    "    # PRIMEIRA CAMADA MAX POOLING\n",
    "    maxpool_1 = tf.keras.layers.MaxPooling2D(pooling_size)\n",
    "    x = maxpool_1(x)\n",
    "\n",
    "    # SEGUNDA CAMADA CONVOLUCIONAL\n",
    "    conv_2d_layer_2 = tf.keras.layers.Conv2D(4 * hyperparameter, filter_size, activation = convnn_acivation)\n",
    "    x = conv_2d_layer_2(x)\n",
    "    \n",
    "\n",
    "    # SEGUNDA CAMADA MAX POOLING\n",
    "    maxpool_2 = tf.keras.layers.MaxPooling2D(pooling_size)\n",
    "    x = maxpool_2(x)\n",
    "\n",
    "    # TERCEIRA CAMADA CONVOLUCIONAL\n",
    "    conv_2d_layer_3 = tf.keras.layers.Conv2D(4 * hyperparameter, filter_size, activation = convnn_acivation)\n",
    "    x = conv_2d_layer_3(x)\n",
    "\n",
    "    # TERCEIRA CAMADA MAX POOLING\n",
    "    maxpool_3 = tf.keras.layers.MaxPooling2D(pooling_size)\n",
    "    x = maxpool_3(x)\n",
    "\n",
    "    # FLATTEN\n",
    "    flatten_layer = tf.keras.layers.Flatten()\n",
    "    x = flatten_layer(x)\n",
    "\n",
    "    # FULLY CONNECTED HIDDEN LAYER\n",
    "    hidden_layer = tf.keras.layers.Dense(hyperparameter + 1, activation = fully_connected_acivation)\n",
    "    x = hidden_layer(x)\n",
    "\n",
    "    # OUTPUT LAYER\n",
    "    output_layer = tf.keras.layers.Dense(3)\n",
    "    outputs = output_layer(x)\n",
    "\n",
    "    return tf.keras.Model(inputs = inputs, outputs = outputs, name = net_name)"
   ]
  },
  {
   "cell_type": "code",
   "execution_count": 27,
   "metadata": {},
   "outputs": [
    {
     "name": "stdout",
     "output_type": "stream",
     "text": [
      "Found 5113 files belonging to 3 classes.\n",
      "Using 4091 files for training.\n",
      "Using 1022 files for validation.\n"
     ]
    }
   ],
   "source": [
    "(train_ds, validation_ds) = tf.keras.utils.image_dataset_from_directory(\n",
    "    directory=dir_images,\n",
    "    labels='inferred',\n",
    "    label_mode='int',\n",
    "    color_mode='grayscale',\n",
    "    image_size=image_size,\n",
    "    seed=seed,\n",
    "    validation_split=validation_split,\n",
    "    subset='both',\n",
    "    interpolation='bilinear',\n",
    "    crop_to_aspect_ratio=False\n",
    ")"
   ]
  },
  {
   "cell_type": "code",
   "execution_count": 28,
   "metadata": {},
   "outputs": [
    {
     "name": "stdout",
     "output_type": "stream",
     "text": [
      "LittleEyes_1 training started...\n",
      "Epoch 1/5\n",
      "128/128 [==============================] - 44s 337ms/step - loss: 1.2429 - accuracy: 0.3278 - val_loss: 1.1596 - val_accuracy: 0.3425\n",
      "Epoch 2/5\n",
      "128/128 [==============================] - 47s 363ms/step - loss: 1.1363 - accuracy: 0.3302 - val_loss: 1.1102 - val_accuracy: 0.3425\n",
      "Epoch 3/5\n",
      "128/128 [==============================] - 47s 365ms/step - loss: 1.1065 - accuracy: 0.3302 - val_loss: 1.0996 - val_accuracy: 0.3425\n",
      "Epoch 4/5\n",
      "128/128 [==============================] - 46s 358ms/step - loss: 1.1000 - accuracy: 0.3302 - val_loss: 1.0984 - val_accuracy: 0.3425\n",
      "Epoch 5/5\n",
      "128/128 [==============================] - 53s 413ms/step - loss: 1.0989 - accuracy: 0.3249 - val_loss: 1.0985 - val_accuracy: 0.3425\n",
      "LITTLEEYES_1: 32% TRAINING ACCURACY / 34% VALIDATION ACCURACY\n",
      "LittleEyes_2 training started...\n",
      "Epoch 1/5\n",
      "128/128 [==============================] - 52s 397ms/step - loss: 1.2954 - accuracy: 0.3339 - val_loss: 1.2171 - val_accuracy: 0.3425\n",
      "Epoch 2/5\n",
      "128/128 [==============================] - 49s 383ms/step - loss: 1.1716 - accuracy: 0.3302 - val_loss: 1.1251 - val_accuracy: 0.3425\n",
      "Epoch 3/5\n",
      "122/128 [===========================>..] - ETA: 2s - loss: 1.1137 - accuracy: 0.3304"
     ]
    },
    {
     "ename": "KeyboardInterrupt",
     "evalue": "",
     "output_type": "error",
     "traceback": [
      "\u001b[1;31m---------------------------------------------------------------------------\u001b[0m",
      "\u001b[1;31mKeyboardInterrupt\u001b[0m                         Traceback (most recent call last)",
      "Cell \u001b[1;32mIn[28], line 16\u001b[0m\n\u001b[0;32m     10\u001b[0m opt \u001b[39m=\u001b[39m optimizers\u001b[39m.\u001b[39mAdam(learning_rate \u001b[39m=\u001b[39m learning_rate)\n\u001b[0;32m     12\u001b[0m little_eyes\u001b[39m.\u001b[39mcompile(optimizer\u001b[39m=\u001b[39mopt ,\n\u001b[0;32m     13\u001b[0m             loss\u001b[39m=\u001b[39mtf\u001b[39m.\u001b[39mkeras\u001b[39m.\u001b[39mlosses\u001b[39m.\u001b[39mSparseCategoricalCrossentropy(from_logits\u001b[39m=\u001b[39m\u001b[39mTrue\u001b[39;00m),\n\u001b[0;32m     14\u001b[0m             metrics\u001b[39m=\u001b[39m[score_metric])\n\u001b[1;32m---> 16\u001b[0m history \u001b[39m=\u001b[39m little_eyes\u001b[39m.\u001b[39;49mfit(train_ds, epochs \u001b[39m=\u001b[39;49m max_epochs, \n\u001b[0;32m     17\u001b[0m                     validation_data\u001b[39m=\u001b[39;49mvalidation_ds, verbose \u001b[39m=\u001b[39;49m verbose)\n\u001b[0;32m     19\u001b[0m training_score \u001b[39m=\u001b[39m history\u001b[39m.\u001b[39mhistory[score_metric][\u001b[39m-\u001b[39m\u001b[39m1\u001b[39m]\n\u001b[0;32m     20\u001b[0m validation_score \u001b[39m=\u001b[39m history\u001b[39m.\u001b[39mhistory[\u001b[39mf\u001b[39m\u001b[39m\"\u001b[39m\u001b[39mval_\u001b[39m\u001b[39m{\u001b[39;00mscore_metric\u001b[39m}\u001b[39;00m\u001b[39m\"\u001b[39m][\u001b[39m-\u001b[39m\u001b[39m1\u001b[39m]\n",
      "File \u001b[1;32mc:\\Users\\Renat\\miniconda3\\envs\\cv\\lib\\site-packages\\keras\\utils\\traceback_utils.py:65\u001b[0m, in \u001b[0;36mfilter_traceback.<locals>.error_handler\u001b[1;34m(*args, **kwargs)\u001b[0m\n\u001b[0;32m     63\u001b[0m filtered_tb \u001b[39m=\u001b[39m \u001b[39mNone\u001b[39;00m\n\u001b[0;32m     64\u001b[0m \u001b[39mtry\u001b[39;00m:\n\u001b[1;32m---> 65\u001b[0m     \u001b[39mreturn\u001b[39;00m fn(\u001b[39m*\u001b[39margs, \u001b[39m*\u001b[39m\u001b[39m*\u001b[39mkwargs)\n\u001b[0;32m     66\u001b[0m \u001b[39mexcept\u001b[39;00m \u001b[39mException\u001b[39;00m \u001b[39mas\u001b[39;00m e:\n\u001b[0;32m     67\u001b[0m     filtered_tb \u001b[39m=\u001b[39m _process_traceback_frames(e\u001b[39m.\u001b[39m__traceback__)\n",
      "File \u001b[1;32mc:\\Users\\Renat\\miniconda3\\envs\\cv\\lib\\site-packages\\keras\\engine\\training.py:1685\u001b[0m, in \u001b[0;36mModel.fit\u001b[1;34m(self, x, y, batch_size, epochs, verbose, callbacks, validation_split, validation_data, shuffle, class_weight, sample_weight, initial_epoch, steps_per_epoch, validation_steps, validation_batch_size, validation_freq, max_queue_size, workers, use_multiprocessing)\u001b[0m\n\u001b[0;32m   1677\u001b[0m \u001b[39mwith\u001b[39;00m tf\u001b[39m.\u001b[39mprofiler\u001b[39m.\u001b[39mexperimental\u001b[39m.\u001b[39mTrace(\n\u001b[0;32m   1678\u001b[0m     \u001b[39m\"\u001b[39m\u001b[39mtrain\u001b[39m\u001b[39m\"\u001b[39m,\n\u001b[0;32m   1679\u001b[0m     epoch_num\u001b[39m=\u001b[39mepoch,\n\u001b[1;32m   (...)\u001b[0m\n\u001b[0;32m   1682\u001b[0m     _r\u001b[39m=\u001b[39m\u001b[39m1\u001b[39m,\n\u001b[0;32m   1683\u001b[0m ):\n\u001b[0;32m   1684\u001b[0m     callbacks\u001b[39m.\u001b[39mon_train_batch_begin(step)\n\u001b[1;32m-> 1685\u001b[0m     tmp_logs \u001b[39m=\u001b[39m \u001b[39mself\u001b[39;49m\u001b[39m.\u001b[39;49mtrain_function(iterator)\n\u001b[0;32m   1686\u001b[0m     \u001b[39mif\u001b[39;00m data_handler\u001b[39m.\u001b[39mshould_sync:\n\u001b[0;32m   1687\u001b[0m         context\u001b[39m.\u001b[39masync_wait()\n",
      "File \u001b[1;32mc:\\Users\\Renat\\miniconda3\\envs\\cv\\lib\\site-packages\\tensorflow\\python\\util\\traceback_utils.py:150\u001b[0m, in \u001b[0;36mfilter_traceback.<locals>.error_handler\u001b[1;34m(*args, **kwargs)\u001b[0m\n\u001b[0;32m    148\u001b[0m filtered_tb \u001b[39m=\u001b[39m \u001b[39mNone\u001b[39;00m\n\u001b[0;32m    149\u001b[0m \u001b[39mtry\u001b[39;00m:\n\u001b[1;32m--> 150\u001b[0m   \u001b[39mreturn\u001b[39;00m fn(\u001b[39m*\u001b[39margs, \u001b[39m*\u001b[39m\u001b[39m*\u001b[39mkwargs)\n\u001b[0;32m    151\u001b[0m \u001b[39mexcept\u001b[39;00m \u001b[39mException\u001b[39;00m \u001b[39mas\u001b[39;00m e:\n\u001b[0;32m    152\u001b[0m   filtered_tb \u001b[39m=\u001b[39m _process_traceback_frames(e\u001b[39m.\u001b[39m__traceback__)\n",
      "File \u001b[1;32mc:\\Users\\Renat\\miniconda3\\envs\\cv\\lib\\site-packages\\tensorflow\\python\\eager\\polymorphic_function\\polymorphic_function.py:894\u001b[0m, in \u001b[0;36mFunction.__call__\u001b[1;34m(self, *args, **kwds)\u001b[0m\n\u001b[0;32m    891\u001b[0m compiler \u001b[39m=\u001b[39m \u001b[39m\"\u001b[39m\u001b[39mxla\u001b[39m\u001b[39m\"\u001b[39m \u001b[39mif\u001b[39;00m \u001b[39mself\u001b[39m\u001b[39m.\u001b[39m_jit_compile \u001b[39melse\u001b[39;00m \u001b[39m\"\u001b[39m\u001b[39mnonXla\u001b[39m\u001b[39m\"\u001b[39m\n\u001b[0;32m    893\u001b[0m \u001b[39mwith\u001b[39;00m OptionalXlaContext(\u001b[39mself\u001b[39m\u001b[39m.\u001b[39m_jit_compile):\n\u001b[1;32m--> 894\u001b[0m   result \u001b[39m=\u001b[39m \u001b[39mself\u001b[39m\u001b[39m.\u001b[39m_call(\u001b[39m*\u001b[39margs, \u001b[39m*\u001b[39m\u001b[39m*\u001b[39mkwds)\n\u001b[0;32m    896\u001b[0m new_tracing_count \u001b[39m=\u001b[39m \u001b[39mself\u001b[39m\u001b[39m.\u001b[39mexperimental_get_tracing_count()\n\u001b[0;32m    897\u001b[0m without_tracing \u001b[39m=\u001b[39m (tracing_count \u001b[39m==\u001b[39m new_tracing_count)\n",
      "File \u001b[1;32mc:\\Users\\Renat\\miniconda3\\envs\\cv\\lib\\site-packages\\tensorflow\\python\\eager\\polymorphic_function\\polymorphic_function.py:926\u001b[0m, in \u001b[0;36mFunction._call\u001b[1;34m(self, *args, **kwds)\u001b[0m\n\u001b[0;32m    923\u001b[0m   \u001b[39mself\u001b[39m\u001b[39m.\u001b[39m_lock\u001b[39m.\u001b[39mrelease()\n\u001b[0;32m    924\u001b[0m   \u001b[39m# In this case we have created variables on the first call, so we run the\u001b[39;00m\n\u001b[0;32m    925\u001b[0m   \u001b[39m# defunned version which is guaranteed to never create variables.\u001b[39;00m\n\u001b[1;32m--> 926\u001b[0m   \u001b[39mreturn\u001b[39;00m \u001b[39mself\u001b[39m\u001b[39m.\u001b[39m_no_variable_creation_fn(\u001b[39m*\u001b[39margs, \u001b[39m*\u001b[39m\u001b[39m*\u001b[39mkwds)  \u001b[39m# pylint: disable=not-callable\u001b[39;00m\n\u001b[0;32m    927\u001b[0m \u001b[39melif\u001b[39;00m \u001b[39mself\u001b[39m\u001b[39m.\u001b[39m_variable_creation_fn \u001b[39mis\u001b[39;00m \u001b[39mnot\u001b[39;00m \u001b[39mNone\u001b[39;00m:\n\u001b[0;32m    928\u001b[0m   \u001b[39m# Release the lock early so that multiple threads can perform the call\u001b[39;00m\n\u001b[0;32m    929\u001b[0m   \u001b[39m# in parallel.\u001b[39;00m\n\u001b[0;32m    930\u001b[0m   \u001b[39mself\u001b[39m\u001b[39m.\u001b[39m_lock\u001b[39m.\u001b[39mrelease()\n",
      "File \u001b[1;32mc:\\Users\\Renat\\miniconda3\\envs\\cv\\lib\\site-packages\\tensorflow\\python\\eager\\polymorphic_function\\tracing_compiler.py:143\u001b[0m, in \u001b[0;36mTracingCompiler.__call__\u001b[1;34m(self, *args, **kwargs)\u001b[0m\n\u001b[0;32m    140\u001b[0m \u001b[39mwith\u001b[39;00m \u001b[39mself\u001b[39m\u001b[39m.\u001b[39m_lock:\n\u001b[0;32m    141\u001b[0m   (concrete_function,\n\u001b[0;32m    142\u001b[0m    filtered_flat_args) \u001b[39m=\u001b[39m \u001b[39mself\u001b[39m\u001b[39m.\u001b[39m_maybe_define_function(args, kwargs)\n\u001b[1;32m--> 143\u001b[0m \u001b[39mreturn\u001b[39;00m concrete_function\u001b[39m.\u001b[39;49m_call_flat(\n\u001b[0;32m    144\u001b[0m     filtered_flat_args, captured_inputs\u001b[39m=\u001b[39;49mconcrete_function\u001b[39m.\u001b[39;49mcaptured_inputs)\n",
      "File \u001b[1;32mc:\\Users\\Renat\\miniconda3\\envs\\cv\\lib\\site-packages\\tensorflow\\python\\eager\\polymorphic_function\\monomorphic_function.py:1757\u001b[0m, in \u001b[0;36mConcreteFunction._call_flat\u001b[1;34m(self, args, captured_inputs, cancellation_manager)\u001b[0m\n\u001b[0;32m   1753\u001b[0m possible_gradient_type \u001b[39m=\u001b[39m gradients_util\u001b[39m.\u001b[39mPossibleTapeGradientTypes(args)\n\u001b[0;32m   1754\u001b[0m \u001b[39mif\u001b[39;00m (possible_gradient_type \u001b[39m==\u001b[39m gradients_util\u001b[39m.\u001b[39mPOSSIBLE_GRADIENT_TYPES_NONE\n\u001b[0;32m   1755\u001b[0m     \u001b[39mand\u001b[39;00m executing_eagerly):\n\u001b[0;32m   1756\u001b[0m   \u001b[39m# No tape is watching; skip to running the function.\u001b[39;00m\n\u001b[1;32m-> 1757\u001b[0m   \u001b[39mreturn\u001b[39;00m \u001b[39mself\u001b[39m\u001b[39m.\u001b[39m_build_call_outputs(\u001b[39mself\u001b[39;49m\u001b[39m.\u001b[39;49m_inference_function\u001b[39m.\u001b[39;49mcall(\n\u001b[0;32m   1758\u001b[0m       ctx, args, cancellation_manager\u001b[39m=\u001b[39;49mcancellation_manager))\n\u001b[0;32m   1759\u001b[0m forward_backward \u001b[39m=\u001b[39m \u001b[39mself\u001b[39m\u001b[39m.\u001b[39m_select_forward_and_backward_functions(\n\u001b[0;32m   1760\u001b[0m     args,\n\u001b[0;32m   1761\u001b[0m     possible_gradient_type,\n\u001b[0;32m   1762\u001b[0m     executing_eagerly)\n\u001b[0;32m   1763\u001b[0m forward_function, args_with_tangents \u001b[39m=\u001b[39m forward_backward\u001b[39m.\u001b[39mforward()\n",
      "File \u001b[1;32mc:\\Users\\Renat\\miniconda3\\envs\\cv\\lib\\site-packages\\tensorflow\\python\\eager\\polymorphic_function\\monomorphic_function.py:381\u001b[0m, in \u001b[0;36m_EagerDefinedFunction.call\u001b[1;34m(self, ctx, args, cancellation_manager)\u001b[0m\n\u001b[0;32m    379\u001b[0m \u001b[39mwith\u001b[39;00m _InterpolateFunctionError(\u001b[39mself\u001b[39m):\n\u001b[0;32m    380\u001b[0m   \u001b[39mif\u001b[39;00m cancellation_manager \u001b[39mis\u001b[39;00m \u001b[39mNone\u001b[39;00m:\n\u001b[1;32m--> 381\u001b[0m     outputs \u001b[39m=\u001b[39m execute\u001b[39m.\u001b[39;49mexecute(\n\u001b[0;32m    382\u001b[0m         \u001b[39mstr\u001b[39;49m(\u001b[39mself\u001b[39;49m\u001b[39m.\u001b[39;49msignature\u001b[39m.\u001b[39;49mname),\n\u001b[0;32m    383\u001b[0m         num_outputs\u001b[39m=\u001b[39;49m\u001b[39mself\u001b[39;49m\u001b[39m.\u001b[39;49m_num_outputs,\n\u001b[0;32m    384\u001b[0m         inputs\u001b[39m=\u001b[39;49margs,\n\u001b[0;32m    385\u001b[0m         attrs\u001b[39m=\u001b[39;49mattrs,\n\u001b[0;32m    386\u001b[0m         ctx\u001b[39m=\u001b[39;49mctx)\n\u001b[0;32m    387\u001b[0m   \u001b[39melse\u001b[39;00m:\n\u001b[0;32m    388\u001b[0m     outputs \u001b[39m=\u001b[39m execute\u001b[39m.\u001b[39mexecute_with_cancellation(\n\u001b[0;32m    389\u001b[0m         \u001b[39mstr\u001b[39m(\u001b[39mself\u001b[39m\u001b[39m.\u001b[39msignature\u001b[39m.\u001b[39mname),\n\u001b[0;32m    390\u001b[0m         num_outputs\u001b[39m=\u001b[39m\u001b[39mself\u001b[39m\u001b[39m.\u001b[39m_num_outputs,\n\u001b[1;32m   (...)\u001b[0m\n\u001b[0;32m    393\u001b[0m         ctx\u001b[39m=\u001b[39mctx,\n\u001b[0;32m    394\u001b[0m         cancellation_manager\u001b[39m=\u001b[39mcancellation_manager)\n",
      "File \u001b[1;32mc:\\Users\\Renat\\miniconda3\\envs\\cv\\lib\\site-packages\\tensorflow\\python\\eager\\execute.py:52\u001b[0m, in \u001b[0;36mquick_execute\u001b[1;34m(op_name, num_outputs, inputs, attrs, ctx, name)\u001b[0m\n\u001b[0;32m     50\u001b[0m \u001b[39mtry\u001b[39;00m:\n\u001b[0;32m     51\u001b[0m   ctx\u001b[39m.\u001b[39mensure_initialized()\n\u001b[1;32m---> 52\u001b[0m   tensors \u001b[39m=\u001b[39m pywrap_tfe\u001b[39m.\u001b[39;49mTFE_Py_Execute(ctx\u001b[39m.\u001b[39;49m_handle, device_name, op_name,\n\u001b[0;32m     53\u001b[0m                                       inputs, attrs, num_outputs)\n\u001b[0;32m     54\u001b[0m \u001b[39mexcept\u001b[39;00m core\u001b[39m.\u001b[39m_NotOkStatusException \u001b[39mas\u001b[39;00m e:\n\u001b[0;32m     55\u001b[0m   \u001b[39mif\u001b[39;00m name \u001b[39mis\u001b[39;00m \u001b[39mnot\u001b[39;00m \u001b[39mNone\u001b[39;00m:\n",
      "\u001b[1;31mKeyboardInterrupt\u001b[0m: "
     ]
    }
   ],
   "source": [
    "result_list = []\n",
    "\n",
    "for hyperparameter in numpy.arange(1, hyperparameter_max + 1):\n",
    "    net_name = f\"LittleEyes_{hyperparameter}\"\n",
    "    print(f\"{net_name} training started...\")\n",
    "    \n",
    "    little_eyes = create_rps(net_name = net_name, \n",
    "                                    hyperparameter = hyperparameter, phi = phi)\n",
    "    \n",
    "    opt = optimizers.Adam(learning_rate = learning_rate)\n",
    "    \n",
    "    little_eyes.compile(optimizer=opt ,\n",
    "                loss=tf.keras.losses.SparseCategoricalCrossentropy(from_logits=True),\n",
    "                metrics=[score_metric])\n",
    "\n",
    "    history = little_eyes.fit(train_ds, epochs = max_epochs, \n",
    "                        validation_data=validation_ds, verbose = verbose)\n",
    "    \n",
    "    training_score = history.history[score_metric][-1]\n",
    "    validation_score = history.history[f\"val_{score_metric}\"][-1]\n",
    "    \n",
    "    result_list.append((net_name, hyperparameter, training_score, validation_score, little_eyes))\n",
    "    print(f\"{net_name.upper()}: {100 * training_score:.0f}% TRAINING {score_metric.upper()} / {100 * validation_score:.0f}% VALIDATION {score_metric.upper()}\")"
   ]
  },
  {
   "cell_type": "code",
   "execution_count": null,
   "metadata": {},
   "outputs": [
    {
     "data": {
      "text/html": [
       "<div>\n",
       "<style scoped>\n",
       "    .dataframe tbody tr th:only-of-type {\n",
       "        vertical-align: middle;\n",
       "    }\n",
       "\n",
       "    .dataframe tbody tr th {\n",
       "        vertical-align: top;\n",
       "    }\n",
       "\n",
       "    .dataframe thead th {\n",
       "        text-align: right;\n",
       "    }\n",
       "</style>\n",
       "<table border=\"1\" class=\"dataframe\">\n",
       "  <thead>\n",
       "    <tr style=\"text-align: right;\">\n",
       "      <th></th>\n",
       "      <th>net_name</th>\n",
       "      <th>accuracy</th>\n",
       "      <th>val_accuracy</th>\n",
       "      <th>hyperparameter</th>\n",
       "    </tr>\n",
       "  </thead>\n",
       "  <tbody>\n",
       "    <tr>\n",
       "      <th>0</th>\n",
       "      <td>LittleEyes_1</td>\n",
       "      <td>0.657567</td>\n",
       "      <td>0.6466</td>\n",
       "      <td>1</td>\n",
       "    </tr>\n",
       "    <tr>\n",
       "      <th>1</th>\n",
       "      <td>LittleEyes_2</td>\n",
       "      <td>0.899817</td>\n",
       "      <td>0.9046</td>\n",
       "      <td>2</td>\n",
       "    </tr>\n",
       "    <tr>\n",
       "      <th>2</th>\n",
       "      <td>LittleEyes_3</td>\n",
       "      <td>0.935450</td>\n",
       "      <td>0.9389</td>\n",
       "      <td>3</td>\n",
       "    </tr>\n",
       "    <tr>\n",
       "      <th>3</th>\n",
       "      <td>LittleEyes_4</td>\n",
       "      <td>0.953400</td>\n",
       "      <td>0.9415</td>\n",
       "      <td>4</td>\n",
       "    </tr>\n",
       "    <tr>\n",
       "      <th>4</th>\n",
       "      <td>LittleEyes_5</td>\n",
       "      <td>0.929883</td>\n",
       "      <td>0.9193</td>\n",
       "      <td>5</td>\n",
       "    </tr>\n",
       "  </tbody>\n",
       "</table>\n",
       "</div>"
      ],
      "text/plain": [
       "       net_name  accuracy  val_accuracy  hyperparameter\n",
       "0  LittleEyes_1  0.657567        0.6466               1\n",
       "1  LittleEyes_2  0.899817        0.9046               2\n",
       "2  LittleEyes_3  0.935450        0.9389               3\n",
       "3  LittleEyes_4  0.953400        0.9415               4\n",
       "4  LittleEyes_5  0.929883        0.9193               5"
      ]
     },
     "execution_count": 14,
     "metadata": {},
     "output_type": "execute_result"
    }
   ],
   "source": [
    "results = pandas.DataFrame.from_records(result_list)\n",
    "results.columns = [\"net_name\", 'hyperparameter', score_metric, f\"val_{score_metric}\", \"little_eyes\"]\n",
    "results.sort_values(\"val_accuracy\", ascending = False)"
   ]
  },
  {
   "cell_type": "code",
   "execution_count": null,
   "metadata": {},
   "outputs": [
    {
     "data": {
      "image/png": "[encoded data removed]",
      "text/plain": [
       "<Figure size 800x450 with 1 Axes>"
      ]
     },
     "metadata": {},
     "output_type": "display_data"
    }
   ],
   "source": [
    "fig = pyplot.figure(figsize = (8, 4.5))\n",
    "ax = fig.add_subplot(111)\n",
    "results.plot(x = 'hyperparameter', y = 'accuracy', marker = 'o', ax = ax)\n",
    "results.plot(x = 'hyperparameter', y = 'val_accuracy', marker = '^', color = 'orange', ax = ax)\n",
    "ax.grid()"
   ]
  },
  {
   "cell_type": "code",
   "execution_count": null,
   "metadata": {},
   "outputs": [],
   "source": []
  }
 ],
 "metadata": {
  "kernelspec": {
   "display_name": "cv",
   "language": "python",
   "name": "python3"
  },
  "language_info": {
   "codemirror_mode": {
    "name": "ipython",
    "version": 3
   },
   "file_extension": ".py",
   "mimetype": "text/x-python",
   "name": "python",
   "nbconvert_exporter": "python",
   "pygments_lexer": "ipython3",
   "version": "3.10.11"
  },
  "orig_nbformat": 4
 },
 "nbformat": 4,
 "nbformat_minor": 2
}
