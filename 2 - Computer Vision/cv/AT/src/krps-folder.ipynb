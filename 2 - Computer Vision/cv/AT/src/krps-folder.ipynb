{
 "cells": [
  {
   "attachments": {},
   "cell_type": "markdown",
   "metadata": {},
   "source": [
    "# Rock, Paper, Scissors"
   ]
  },
  {
   "attachments": {},
   "cell_type": "markdown",
   "metadata": {},
   "source": [
    "#### Import modules"
   ]
  },
  {
   "cell_type": "code",
   "execution_count": 58,
   "metadata": {},
   "outputs": [],
   "source": [
    "import tensorflow as tf\n",
    "from tensorflow import keras\n",
    "import numpy\n",
    "import matplotlib.pyplot as plt\n",
    "import os\n",
    "import random\n",
    "import sklearn\n",
    "from sklearn.model_selection import StratifiedKFold\n"
   ]
  },
  {
   "cell_type": "markdown",
   "metadata": {},
   "source": [
    "#### Default values"
   ]
  },
  {
   "cell_type": "code",
   "execution_count": 59,
   "metadata": {},
   "outputs": [],
   "source": [
    "# IMPORT IMAGES\n",
    "dir_images_train = \"C:\\\\zImagens\\\\train\"\n",
    "image_size = (32,32)\n",
    "batch_size = 1\n",
    "\n",
    "# TRAINING\n",
    "the_seed = 32\n",
    "input_shape = image_size + (1,)\n",
    "convnn_acivation = 'relu'\n",
    "fully_connected_acivation = 'tanh'\n",
    "hyperparameter_max = 16\n",
    "learning_rate = 0.001\n",
    "max_epochs = 5\n",
    "score_metric = 'accuracy'\n",
    "verbose = 1\n",
    "phi = 360\n",
    "n_folds = 10\n",
    "\n",
    "# SET RANDOM\n",
    "random.seed(the_seed)\n",
    "numpy.random.seed(the_seed)\n",
    "tf.random.set_seed(the_seed)"
   ]
  },
  {
   "attachments": {},
   "cell_type": "markdown",
   "metadata": {},
   "source": [
    "#### Import images to training dataset"
   ]
  },
  {
   "cell_type": "code",
   "execution_count": 60,
   "metadata": {},
   "outputs": [
    {
     "name": "stdout",
     "output_type": "stream",
     "text": [
      "Found 4741 files belonging to 3 classes.\n",
      "<_BatchDataset element_spec=(TensorSpec(shape=(None, 32, 32, 1), dtype=tf.float32, name=None), TensorSpec(shape=(None,), dtype=tf.int32, name=None))>\n",
      "<_TakeDataset element_spec=(TensorSpec(shape=(None, 32, 32, 1), dtype=tf.float32, name=None), TensorSpec(shape=(None,), dtype=tf.int32, name=None))>\n"
     ]
    },
    {
     "data": {
      "text/plain": [
       "array(<_BatchDataset element_spec=(TensorSpec(shape=(None, 32, 32, 1), dtype=tf.float32, name=None), TensorSpec(shape=(None,), dtype=tf.int32, name=None))>,\n",
       "      dtype=object)"
      ]
     },
     "execution_count": 60,
     "metadata": {},
     "output_type": "execute_result"
    }
   ],
   "source": [
    "train_ds = tf.keras.utils.image_dataset_from_directory(\n",
    "    directory=dir_images_train,\n",
    "    labels='inferred',\n",
    "    label_mode='int',\n",
    "    class_names=None,\n",
    "    color_mode='grayscale',\n",
    "    batch_size=batch_size,\n",
    "    image_size=image_size,\n",
    "    shuffle=True,\n",
    "    seed=None,\n",
    "    validation_split=None,\n",
    "    subset=None,\n",
    "    interpolation='bilinear',\n",
    "    follow_links=False,\n",
    "    crop_to_aspect_ratio=False\n",
    ")\n",
    "\n",
    "print(train_ds)\n",
    "print(train_ds.take(500))\n",
    "numpy.array(train_ds)"
   ]
  },
  {
   "cell_type": "markdown",
   "metadata": {},
   "source": [
    "#### Training"
   ]
  },
  {
   "cell_type": "code",
   "execution_count": 61,
   "metadata": {},
   "outputs": [],
   "source": [
    "def create_rps(input_size : tuple[int, int, int] = (32, 32, 1),\n",
    "                      convnn_acivation : str = 'relu',\n",
    "                      fully_connected_acivation : str = 'tanh',\n",
    "                      net_name : str = 'RPS',\n",
    "                      hyperparameter : int = 1,\n",
    "                      phi = 360):\n",
    "    \n",
    "    filter_size = (3,3)\n",
    "    pooling_size = (2,2)\n",
    "    \n",
    "    # CAMADA OCULTA\n",
    "    inputs = tf.keras.Input(shape=input_size)\n",
    "    \n",
    "    # RESCALING\n",
    "    scale_layer = tf.keras.layers.Rescaling(scale= 1/127.5, offset= -1)\n",
    "    x = scale_layer(inputs)\n",
    "    \n",
    "    # CAMADA DE AUMENTO DE DADOS\n",
    "    rotator = tf.keras.layers.RandomRotation(phi)\n",
    "    x = rotator(x)\n",
    "\n",
    "    # PRIMEIRA CAMADA CONVOLUCIONAL + POOL\n",
    "    conv_2d_layer_1 = tf.keras.layers.Conv2D(1 * hyperparameter, filter_size, activation = convnn_acivation)\n",
    "    x = conv_2d_layer_1(x)\n",
    "    maxpool_1 = tf.keras.layers.MaxPooling2D(pooling_size)\n",
    "    x = maxpool_1(x)\n",
    "\n",
    "    # SEGUNDA CAMADA CONVOLUCIONAL + POOL\n",
    "    conv_2d_layer_2 = tf.keras.layers.Conv2D(2 * hyperparameter, filter_size, activation = convnn_acivation)\n",
    "    x = conv_2d_layer_2(x)\n",
    "    maxpool_2 = tf.keras.layers.MaxPooling2D(pooling_size)\n",
    "    x = maxpool_2(x)\n",
    "\n",
    "    # TERCEIRA CAMADA CONVOLUCIONAL + POOL\n",
    "    conv_2d_layer_3 = tf.keras.layers.Conv2D(4 * hyperparameter, filter_size, activation = convnn_acivation)\n",
    "    x = conv_2d_layer_3(x)\n",
    "    maxpool_3 = tf.keras.layers.MaxPooling2D(pooling_size)\n",
    "    x = maxpool_3(x)\n",
    "\n",
    "    # FLATTEN\n",
    "    flatten_layer = tf.keras.layers.Flatten()\n",
    "    x = flatten_layer(x)\n",
    "\n",
    "    # FULLY CONNECTED HIDDEN LAYER\n",
    "    hidden_layer = tf.keras.layers.Dense(64 * hyperparameter, activation = convnn_acivation)\n",
    "    x = hidden_layer(x)\n",
    "\n",
    "    # OUTPUT LAYER\n",
    "    output_layer = tf.keras.layers.Dense(3, activation = fully_connected_acivation)\n",
    "    outputs = output_layer(x)\n",
    "\n",
    "    return tf.keras.Model(inputs = inputs, outputs = outputs, name = net_name)"
   ]
  },
  {
   "cell_type": "code",
   "execution_count": 62,
   "metadata": {},
   "outputs": [
    {
     "ename": "IndexError",
     "evalue": "too many indices for array: array is 0-dimensional, but 1 were indexed",
     "output_type": "error",
     "traceback": [
      "\u001b[1;31m---------------------------------------------------------------------------\u001b[0m",
      "\u001b[1;31mIndexError\u001b[0m                                Traceback (most recent call last)",
      "Cell \u001b[1;32mIn[62], line 5\u001b[0m\n\u001b[0;32m      2\u001b[0m kfolder \u001b[39m=\u001b[39m StratifiedKFold(n_splits \u001b[39m=\u001b[39m n_folds, random_state \u001b[39m=\u001b[39m the_seed, shuffle \u001b[39m=\u001b[39m \u001b[39mTrue\u001b[39;00m)\n\u001b[0;32m      4\u001b[0m \u001b[39mfor\u001b[39;00m hyperparameter \u001b[39min\u001b[39;00m numpy\u001b[39m.\u001b[39marange(\u001b[39m1\u001b[39m, hyperparameter_max \u001b[39m+\u001b[39m \u001b[39m1\u001b[39m):\n\u001b[1;32m----> 5\u001b[0m     \u001b[39mfor\u001b[39;00m i, (train_index, validation_index) \u001b[39min\u001b[39;00m \u001b[39menumerate\u001b[39m(kfolder\u001b[39m.\u001b[39msplit(numpy\u001b[39m.\u001b[39;49marray(train_ds\u001b[39m.\u001b[39;49mtake(\u001b[39m1\u001b[39;49m))[\u001b[39m0\u001b[39;49m], numpy\u001b[39m.\u001b[39marray(train_ds\u001b[39m.\u001b[39mtake(\u001b[39m1\u001b[39m))[\u001b[39m1\u001b[39m])):\n\u001b[0;32m      6\u001b[0m         \u001b[39mprint\u001b[39m(\u001b[39mf\u001b[39m\u001b[39m\"\u001b[39m\u001b[39mStarting h: \u001b[39m\u001b[39m{\u001b[39;00mhyperparameter\u001b[39m}\u001b[39;00m\u001b[39m f: \u001b[39m\u001b[39m{\u001b[39;00mi\u001b[39m}\u001b[39;00m\u001b[39m\"\u001b[39m)\n\u001b[0;32m      7\u001b[0m         X_train, Y_train \u001b[39m=\u001b[39m train_images[train_index], train_labels[train_index]\n",
      "\u001b[1;31mIndexError\u001b[0m: too many indices for array: array is 0-dimensional, but 1 were indexed"
     ]
    }
   ],
   "source": [
    "result_list = []\n",
    "kfolder = StratifiedKFold(n_splits = n_folds, random_state = the_seed, shuffle = True)\n",
    "\n",
    "for hyperparameter in numpy.arange(1, hyperparameter_max + 1):\n",
    "    for i, (train_index, validation_index) in enumerate(kfolder.split(numpy.array(train_ds.take(1))[0], numpy.array(train_ds.take(1))[1])):\n",
    "        print(f\"Starting h: {hyperparameter} f: {i}\")\n",
    "        X_train, Y_train = train_images[train_index], train_labels[train_index]\n",
    "        X_val, Y_val = train_images[validation_index], train_labels[validation_index]\n",
    "        \n",
    "        # NET NAME > Hyperparameter + Fold Number\n",
    "        net_name = f\"LittleEyes_{hyperparameter}_{i}\"\n",
    "        print(f\"{net_name} training started...\")\n",
    "        \n",
    "        little_eyes = create_litle_eyes(net_name = net_name, \n",
    "                                        hyperparameter = hyperparameter)\n",
    "        \n",
    "        opt = optimizers.Adam(learning_rate = learning_rate)\n",
    "        \n",
    "        little_eyes.compile(optimizer=opt ,\n",
    "                    loss=tensorflow.keras.losses.SparseCategoricalCrossentropy(from_logits=True),\n",
    "                    metrics=[score_metric])\n",
    "\n",
    "        history = little_eyes.fit(X_train, Y_train, epochs = max_epochs, \n",
    "                            validation_data=(X_val, Y_val), \n",
    "                            verbose = verbose)\n",
    "        \n",
    "        training_score = history.history[score_metric][-1]\n",
    "        validation_score = history.history[f\"val_{score_metric}\"][-1]\n",
    "        \n",
    "        result_list.append((net_name, hyperparameter, i, training_score, validation_score, little_eyes))\n",
    "        print(f\"{net_name.upper()}: {100 * training_score:.0f}% TRAINING {score_metric.upper()} / {100 * validation_score:.0f}% VALIDATION {score_metric.upper()}\")"
   ]
  },
  {
   "cell_type": "code",
   "execution_count": null,
   "metadata": {},
   "outputs": [],
   "source": []
  }
 ],
 "metadata": {
  "kernelspec": {
   "display_name": "cv",
   "language": "python",
   "name": "python3"
  },
  "language_info": {
   "codemirror_mode": {
    "name": "ipython",
    "version": 3
   },
   "file_extension": ".py",
   "mimetype": "text/x-python",
   "name": "python",
   "nbconvert_exporter": "python",
   "pygments_lexer": "ipython3",
   "version": "3.10.11"
  },
  "orig_nbformat": 4
 },
 "nbformat": 4,
 "nbformat_minor": 2
}
